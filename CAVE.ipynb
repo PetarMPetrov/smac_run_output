{
 "cells": [
  {
   "cell_type": "code",
   "execution_count": 4,
   "metadata": {},
   "outputs": [],
   "source": [
    "from cave.cavefacade import CAVE\n",
    "import os"
   ]
  },
  {
   "cell_type": "code",
   "execution_count": 5,
   "metadata": {},
   "outputs": [],
   "source": [
    "output_dir = \"smac_output\"\n",
    "results_dir = os.path.join(output_dir, 'run_1')"
   ]
  },
  {
   "cell_type": "code",
   "execution_count": 6,
   "metadata": {},
   "outputs": [
    {
     "name": "stderr",
     "output_type": "stream",
     "text": [
      "ERROR:cave.cavefacade.CAVE:Trying to set illegal value '42' (type '<class 'int'>') for hyperparameter 'random_state, Type: Categorical, Choices: {42}, Default: 42' (default-value has type '<class 'str'>').\n",
      "Traceback (most recent call last):\n",
      "  File \"/home/ubuntu/anaconda3/envs/sandbox_env/lib/python3.6/site-packages/cave/cavefacade.py\", line 248, in __init__\n",
      "    validation_format=validation_format))\n",
      "  File \"/home/ubuntu/anaconda3/envs/sandbox_env/lib/python3.6/site-packages/cave/reader/configurator_run.py\", line 70, in __init__\n",
      "    self.original_runhistory = self.reader.get_runhistory(self.scen.cs)\n",
      "  File \"/home/ubuntu/anaconda3/envs/sandbox_env/lib/python3.6/site-packages/cave/reader/smac3_reader.py\", line 55, in get_runhistory\n",
      "    rh.load_json(rh_fn, cs)\n",
      "  File \"/home/ubuntu/anaconda3/envs/sandbox_env/lib/python3.6/site-packages/smac/runhistory/runhistory.py\", line 404, in load_json\n",
      "    ) for id_, values in all_data[\"configs\"].items()\n",
      "  File \"/home/ubuntu/anaconda3/envs/sandbox_env/lib/python3.6/site-packages/smac/runhistory/runhistory.py\", line 404, in <dictcomp>\n",
      "    ) for id_, values in all_data[\"configs\"].items()\n",
      "  File \"ConfigSpace/configuration_space.pyx\", line 1370, in ConfigSpace.configuration_space.Configuration.__init__\n",
      "ValueError: Trying to set illegal value '42' (type '<class 'int'>') for hyperparameter 'random_state, Type: Categorical, Choices: {42}, Default: 42' (default-value has type '<class 'str'>').\n"
     ]
    },
    {
     "ename": "ValueError",
     "evalue": "None of the specified folders could be loaded.",
     "output_type": "error",
     "traceback": [
      "\u001b[0;31m---------------------------------------------------------------------------\u001b[0m",
      "\u001b[0;31mValueError\u001b[0m                                Traceback (most recent call last)",
      "\u001b[0;32m<ipython-input-6-9643173d3713>\u001b[0m in \u001b[0;36m<module>\u001b[0;34m\u001b[0m\n\u001b[1;32m      2\u001b[0m             \u001b[0moutput_dir\u001b[0m\u001b[0;34m=\u001b[0m\u001b[0;34m\"test_cave_smac\"\u001b[0m\u001b[0;34m,\u001b[0m\u001b[0;34m\u001b[0m\u001b[0;34m\u001b[0m\u001b[0m\n\u001b[1;32m      3\u001b[0m             \u001b[0mta_exec_dir\u001b[0m\u001b[0;34m=\u001b[0m\u001b[0;34m[\u001b[0m\u001b[0;34m\".\"\u001b[0m\u001b[0;34m]\u001b[0m\u001b[0;34m,\u001b[0m\u001b[0;34m\u001b[0m\u001b[0;34m\u001b[0m\u001b[0m\n\u001b[0;32m----> 4\u001b[0;31m             \u001b[0mfile_format\u001b[0m\u001b[0;34m=\u001b[0m\u001b[0;34m'SMAC3'\u001b[0m\u001b[0;34m,\u001b[0m\u001b[0;34m\u001b[0m\u001b[0;34m\u001b[0m\u001b[0m\n\u001b[0m\u001b[1;32m      5\u001b[0m            )\n",
      "\u001b[0;32m~/anaconda3/envs/sandbox_env/lib/python3.6/site-packages/cave/cavefacade.py\u001b[0m in \u001b[0;36m__init__\u001b[0;34m(self, folders, output_dir, ta_exec_dir, file_format, validation_format, validation_method, pimp_max_samples, fanova_pairwise, pc_sort_by, use_budgets, seed, show_jupyter, verbose_level)\u001b[0m\n\u001b[1;32m    253\u001b[0m                 \u001b[0;32mcontinue\u001b[0m\u001b[0;34m\u001b[0m\u001b[0;34m\u001b[0m\u001b[0m\n\u001b[1;32m    254\u001b[0m         \u001b[0;32mif\u001b[0m \u001b[0;32mnot\u001b[0m \u001b[0mself\u001b[0m\u001b[0;34m.\u001b[0m\u001b[0mruns\u001b[0m\u001b[0;34m:\u001b[0m\u001b[0;34m\u001b[0m\u001b[0;34m\u001b[0m\u001b[0m\n\u001b[0;32m--> 255\u001b[0;31m             \u001b[0;32mraise\u001b[0m \u001b[0mValueError\u001b[0m\u001b[0;34m(\u001b[0m\u001b[0;34m\"None of the specified folders could be loaded.\"\u001b[0m\u001b[0;34m)\u001b[0m\u001b[0;34m\u001b[0m\u001b[0;34m\u001b[0m\u001b[0m\n\u001b[0m\u001b[1;32m    256\u001b[0m         \u001b[0mself\u001b[0m\u001b[0;34m.\u001b[0m\u001b[0mfolder_to_run\u001b[0m \u001b[0;34m=\u001b[0m \u001b[0;34m{\u001b[0m\u001b[0mos\u001b[0m\u001b[0;34m.\u001b[0m\u001b[0mpath\u001b[0m\u001b[0;34m.\u001b[0m\u001b[0mbasename\u001b[0m\u001b[0;34m(\u001b[0m\u001b[0mrun\u001b[0m\u001b[0;34m.\u001b[0m\u001b[0mfolder\u001b[0m\u001b[0;34m)\u001b[0m \u001b[0;34m:\u001b[0m \u001b[0mrun\u001b[0m \u001b[0;32mfor\u001b[0m \u001b[0mrun\u001b[0m \u001b[0;32min\u001b[0m \u001b[0mself\u001b[0m\u001b[0;34m.\u001b[0m\u001b[0mruns\u001b[0m\u001b[0;34m}\u001b[0m\u001b[0;34m\u001b[0m\u001b[0;34m\u001b[0m\u001b[0m\n\u001b[1;32m    257\u001b[0m \u001b[0;34m\u001b[0m\u001b[0m\n",
      "\u001b[0;31mValueError\u001b[0m: None of the specified folders could be loaded."
     ]
    }
   ],
   "source": [
    "cave = CAVE(folders=[results_dir],\n",
    "            output_dir=\"test_cave_smac\",\n",
    "            ta_exec_dir=[\".\"],\n",
    "            file_format='SMAC3',\n",
    "           )"
   ]
  }
 ],
 "metadata": {
  "kernelspec": {
   "display_name": "Python (sandbox)",
   "language": "python",
   "name": "sandbox"
  },
  "language_info": {
   "codemirror_mode": {
    "name": "ipython",
    "version": 3
   },
   "file_extension": ".py",
   "mimetype": "text/x-python",
   "name": "python",
   "nbconvert_exporter": "python",
   "pygments_lexer": "ipython3",
   "version": "3.6.8"
  }
 },
 "nbformat": 4,
 "nbformat_minor": 2
}
