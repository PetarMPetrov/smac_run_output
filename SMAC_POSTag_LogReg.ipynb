{
 "cells": [
  {
   "cell_type": "code",
   "execution_count": 76,
   "metadata": {},
   "outputs": [],
   "source": [
    "import nltk\n",
    "import numpy as np\n",
    "import time\n",
    "\n",
    "import warnings\n",
    "warnings.filterwarnings(\"ignore\")\n",
    "\n",
    "import matplotlib.pyplot as plt\n",
    "%matplotlib inline\n",
    "\n",
    "from sklearn.model_selection import train_test_split\n",
    "from sklearn.preprocessing import LabelEncoder\n",
    "from sklearn.linear_model import LogisticRegression\n",
    "from sklearn.feature_extraction import DictVectorizer\n",
    "from sklearn.pipeline import Pipeline\n",
    "from sklearn.model_selection import cross_validate\n",
    "from sklearn.metrics import f1_score, make_scorer"
   ]
  },
  {
   "cell_type": "markdown",
   "metadata": {},
   "source": [
    "# Data"
   ]
  },
  {
   "cell_type": "code",
   "execution_count": 76,
   "metadata": {},
   "outputs": [],
   "source": [
    "def features(sentence, index):\n",
    "    return {\n",
    "        'word': sentence[index],\n",
    "        'is_capitalized': sentence[index].capitalize() == sentence[index],\n",
    "        'is_all_caps': sentence[index].upper() == sentence[index],\n",
    "        'is_all_lower': sentence[index].lower() == sentence[index],\n",
    "        'prefix-1': sentence[index][:1] if len(sentence[index]) >= 1 else 'SHORT',\n",
    "        'prefix-2': sentence[index][:2] if len(sentence[index]) >= 2 else 'SHORT',\n",
    "        'prefix-3': sentence[index][:3] if len(sentence[index]) >= 3 else 'SHORT',\n",
    "        'suffix-1': sentence[index][-1:] if len(sentence[index]) >= 1 else 'SHORT',\n",
    "        'suffix-2': sentence[index][-2:] if len(sentence[index]) >= 2 else 'SHORT',\n",
    "        'suffix-3': sentence[index][-3:] if len(sentence[index]) >= 3 else 'SHORT',\n",
    "        'prev_word': 'START' if index == 0 else sentence[index - 1],\n",
    "        'next_word': 'END' if index == len(sentence) - 1 else sentence[index + 1],\n",
    "        'has_hyphen': '-' in sentence[index],\n",
    "        'is_numeric': sentence[index].isdigit(),\n",
    "        'capitals_inside': sentence[index][1:].lower() != sentence[index][1:],\n",
    "    }\n",
    "\n",
    "\n",
    "def untag(tagged_sentence):\n",
    "    return [w for w, t in tagged_sentence]\n",
    "\n",
    "\n",
    "def transform_to_dataset(tagged_sentences):\n",
    "    X, y = [], []\n",
    "\n",
    "    for tagged_sent in tagged_sentences:\n",
    "        untagged_sent = untag(tagged_sent)\n",
    "        for index in range(len(tagged_sent)):\n",
    "            X.append(features(untagged_sent, index))\n",
    "            y.append(tagged_sent[index][1])\n",
    "\n",
    "    return X, y\n",
    "\n",
    "# get data\n",
    "tagged_sentences = nltk.corpus.treebank.tagged_sents()\n",
    "X, y = transform_to_dataset(tagged_sentences)\n",
    "\n",
    "label_encoder = LabelEncoder().fit(list(set(y)))\n",
    "y = label_encoder.transform(y)"
   ]
  },
  {
   "cell_type": "markdown",
   "metadata": {},
   "source": [
    "# Target Algorithm Estimate"
   ]
  },
  {
   "cell_type": "code",
   "execution_count": 79,
   "metadata": {},
   "outputs": [],
   "source": [
    "# Target Algorithm Estimate\n",
    "# This function accepts a configuration space point\n",
    "# and returns a number (the score of the provided config)\n",
    "def my_tae(cfg):\n",
    "    \n",
    "    cfg = dict(cfg)\n",
    "    \n",
    "    # ML pipeline\n",
    "    clf = Pipeline(\n",
    "        [\n",
    "            ('vectorizer', DictVectorizer(sparse=False)),\n",
    "            ('classifier', LogisticRegression(**cfg)),\n",
    "        ]\n",
    "    )\n",
    "\n",
    "    # TODO this should probably be outside the function\n",
    "    f1_scorer = make_scorer(f1_score, average='weighted')\n",
    "################### USE FOR CROSS-VAL ##########################\n",
    "#     # k-fold cross validation\n",
    "#     # TODO as we only need one score, better to use cross_val_score\n",
    "#     cv_results = cross_validate(\n",
    "#         estimator=clf,\n",
    "#         X=X_use,\n",
    "#         y=y_use,\n",
    "#         cv=3,\n",
    "#         return_train_score=False,\n",
    "# #        return_estimator=False,\n",
    "#         scoring={'weighted_f1':f1_scorer},\n",
    "#         verbose=5,\n",
    "#     )absabs\n",
    "\n",
    "#     score = cv_results['test_weighted_f1'].mean()\n",
    "\n",
    "################# SINGLE TRAIN-TEST SPLIT ################################\n",
    "    X_train, X_test, y_train, y_test = train_test_split(X_use, y_use, random_state=42)\n",
    "    clf.fit(X_train, y_train)\n",
    "    \n",
    "    score =  f1_scorer(clf, X_test, y_test)\n",
    "\n",
    "    return max(0, 1 - score)"
   ]
  },
  {
   "cell_type": "markdown",
   "metadata": {},
   "source": [
    "# Configuration Space"
   ]
  },
  {
   "cell_type": "code",
   "execution_count": 80,
   "metadata": {},
   "outputs": [
    {
     "data": {
      "text/plain": [
       "max_iter, Type: UniformInteger, Range: [30, 300], Default: 100"
      ]
     },
     "execution_count": 80,
     "metadata": {},
     "output_type": "execute_result"
    }
   ],
   "source": [
    "# Import ConfigSpace and different types of parameters\n",
    "from smac.configspace import ConfigurationSpace\n",
    "from ConfigSpace.hyperparameters import (\n",
    "    CategoricalHyperparameter,\n",
    "    UniformFloatHyperparameter,\n",
    "    UniformIntegerHyperparameter,\n",
    "    Constant,\n",
    ")\n",
    "from ConfigSpace.conditions import InCondition\n",
    "\n",
    "# Import SMAC-utilities\n",
    "from smac.tae.execute_func import ExecuteTAFuncDict\n",
    "from smac.scenario.scenario import Scenario\n",
    "\n",
    "# Define the Configuration space dimensions and limits\n",
    "# N.B. \n",
    "random_state = Constant(\"random_state\", 42)\n",
    "solver = Constant(\"solver\", \"liblinear\")\n",
    "C = UniformFloatHyperparameter(\"C\", 0.03, 10, default_value=1, log=True)\n",
    "\n",
    "cs1 = ConfigurationSpace()\n",
    "\n",
    "cs1.add_hyperparameter(random_state)\n",
    "cs1.add_hyperparameter(solver)\n",
    "cs1.add_hyperparameter(C)"
   ]
  },
  {
   "cell_type": "markdown",
   "metadata": {},
   "source": [
    "# Optimisation"
   ]
  },
  {
   "cell_type": "code",
   "execution_count": null,
   "metadata": {},
   "outputs": [],
   "source": [
    "from smac.facade.smac_facade import SMAC\n",
    "\n",
    "nuse = 2500\n",
    "X_use = X[:nuse]\n",
    "y_use = y[:nuse]\n",
    "\n",
    "# scenario dict\n",
    "scenario_kwargs = {\n",
    "    \"run_obj\": \"quality\",   # optimize quality (alternatively runtime)\n",
    "    \"runcount-limit\": 50,  # maximum function evaluations\n",
    "    \"cs\": cs1,               # configuration space\n",
    "    \"deterministic\": \"true\",\n",
    "    \"output_dir\": f\"smac_output\",\n",
    "}\n",
    "\n",
    "smac = SMAC(\n",
    "    scenario=Scenario(scenario_kwargs),\n",
    "    rng=np.random.RandomState(42),\n",
    "    tae_runner=my_tae,\n",
    ")\n",
    "\n",
    "incumbent = smac.optimize()"
   ]
  }
 ],
 "metadata": {
  "kernelspec": {
   "display_name": "Python (sandbox)",
   "language": "python",
   "name": "sandbox"
  },
  "language_info": {
   "codemirror_mode": {
    "name": "ipython",
    "version": 3
   },
   "file_extension": ".py",
   "mimetype": "text/x-python",
   "name": "python",
   "nbconvert_exporter": "python",
   "pygments_lexer": "ipython3",
   "version": "3.6.8"
  }
 },
 "nbformat": 4,
 "nbformat_minor": 2
}
